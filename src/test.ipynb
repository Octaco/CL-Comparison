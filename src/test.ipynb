{
 "cells": [
  {
   "cell_type": "code",
   "execution_count": 2,
   "outputs": [],
   "source": [
    "import argparse\n",
    "import logging\n",
    "import random\n",
    "\n",
    "import numpy as np\n",
    "import pandas as pd\n",
    "import torch\n",
    "\n",
    "from datasets import load_dataset"
   ],
   "metadata": {
    "collapsed": false,
    "ExecuteTime": {
     "end_time": "2024-01-30T23:48:14.624535300Z",
     "start_time": "2024-01-30T23:48:12.277501200Z"
    }
   },
   "id": "4183bd77e23eb864"
  },
  {
   "cell_type": "code",
   "execution_count": 3,
   "outputs": [],
   "source": [
    "code_search_dataset = load_dataset('code_search_net', 'ruby')\n",
    "\n",
    "# train_data\n",
    "train_data = code_search_dataset['train']\n",
    "\n",
    "function_code = train_data['func_code_string']\n",
    "function_documentation = train_data['func_documentation_string']\n",
    "\n",
    "train_df =pd.DataFrame()\n",
    "train_df['doc'] = function_documentation\n",
    "train_df['code'] = function_code\n",
    "\n",
    "# test_data\n",
    "test_data = code_search_dataset['test']\n",
    "\n",
    "function_code_test = test_data['func_code_string']\n",
    "function_documentation_test = test_data['func_documentation_string']\n",
    "\n",
    "test_df =pd.DataFrame()\n",
    "test_df['doc'] = function_documentation_test\n",
    "test_df['code'] = function_code_test"
   ],
   "metadata": {
    "collapsed": false,
    "ExecuteTime": {
     "end_time": "2024-01-30T23:48:17.529396800Z",
     "start_time": "2024-01-30T23:48:15.851353800Z"
    }
   },
   "id": "f1dfd02b3a488259"
  },
  {
   "cell_type": "code",
   "execution_count": null,
   "outputs": [],
   "source": [],
   "metadata": {
    "collapsed": false
   },
   "id": "8cd29470db98b2bf"
  },
  {
   "cell_type": "code",
   "execution_count": null,
   "outputs": [],
   "source": [],
   "metadata": {
    "collapsed": false
   },
   "id": "e72f5da8ee427eae"
  },
  {
   "cell_type": "code",
   "execution_count": null,
   "outputs": [],
   "source": [],
   "metadata": {
    "collapsed": false
   },
   "id": "9148b493547c3037"
  },
  {
   "cell_type": "code",
   "execution_count": null,
   "outputs": [],
   "source": [],
   "metadata": {
    "collapsed": false
   },
   "id": "f382bffe184fdfa"
  },
  {
   "cell_type": "code",
   "execution_count": null,
   "outputs": [],
   "source": [],
   "metadata": {
    "collapsed": false
   },
   "id": "205d3a8f3ffc7e9c"
  }
 ],
 "metadata": {
  "kernelspec": {
   "display_name": "Python 3",
   "language": "python",
   "name": "python3"
  },
  "language_info": {
   "codemirror_mode": {
    "name": "ipython",
    "version": 2
   },
   "file_extension": ".py",
   "mimetype": "text/x-python",
   "name": "python",
   "nbconvert_exporter": "python",
   "pygments_lexer": "ipython2",
   "version": "2.7.6"
  }
 },
 "nbformat": 4,
 "nbformat_minor": 5
}
